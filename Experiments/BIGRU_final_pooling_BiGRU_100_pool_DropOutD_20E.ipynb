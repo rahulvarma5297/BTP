{
  "cells": [
    {
      "cell_type": "code",
      "execution_count": 1,
      "metadata": {
        "id": "EWcymo_FWADn"
      },
      "outputs": [],
      "source": [
        "import pandas as pd\n",
        "import numpy as np\n",
        "from keras import Sequential\n",
        "from keras.utils import Sequence\n",
        "from keras.layers import LSTM, Dense, Masking, GRU\n",
        "import numpy as np\n",
        "import keras\n",
        "from keras.utils import np_utils\n",
        "from keras import optimizers\n",
        "from keras.models import Sequential, Model\n",
        "from keras.layers import Embedding, Dense, Input, concatenate, Layer, Lambda, Dropout, Activation\n",
        "import datetime\n",
        "from datetime import datetime\n",
        "from keras.callbacks import ModelCheckpoint, EarlyStopping, Callback, TensorBoard\n",
        "from keras.callbacks import ReduceLROnPlateau\n",
        "from keras.models import load_model\n",
        "import tensorflow as tf\n",
        "import tensorflow_hub as hub\n",
        "import numpy as np\n",
        "from numpy import load\n",
        "import pandas as pd\n",
        "from sklearn.metrics import accuracy_score\n",
        "from sklearn.metrics import confusion_matrix\n",
        "\n",
        "\n",
        "np.random.seed(1337)# setting the random seed value"
      ]
    },
    {
      "cell_type": "code",
      "execution_count": null,
      "metadata": {
        "colab": {
          "base_uri": "https://localhost:8080/"
        },
        "id": "8ZULOpIvF4Yt",
        "outputId": "1cfedef9-53ea-4b28-f5c6-013359e325d6"
      },
      "outputs": [],
      "source": []
    },
    {
      "cell_type": "code",
      "execution_count": 2,
      "metadata": {
        "id": "e2RgVj0jFrFp"
      },
      "outputs": [],
      "source": [
        "path_dataset = \"ILDC_multi.csv\" # path to dataset"
      ]
    },
    {
      "cell_type": "code",
      "execution_count": 3,
      "metadata": {
        "id": "fwfyU5uCRR0K"
      },
      "outputs": [],
      "source": [
        "dataset = pd.read_csv(path_dataset) # loading dataset"
      ]
    },
    {
      "cell_type": "code",
      "execution_count": 4,
      "metadata": {
        "id": "_1YqIPZ7L2K5"
      },
      "outputs": [],
      "source": [
        "# path to transformer generated chunk embeddings eg. XLNet etc.\n",
        "path_transformer_chunk_embeddings_train = 'XLNet_full/XLNet_train.npy' \n",
        "path_transformer_chunk_embeddings_dev = 'XLNet_full/XLNet_dev.npy'\n",
        "path_transformer_chunk_embeddings_test = 'XLNet_full/XLNet_test.npy'"
      ]
    },
    {
      "cell_type": "code",
      "execution_count": 5,
      "metadata": {
        "id": "c5rkC-VzPPBa"
      },
      "outputs": [],
      "source": [
        "# loading the chunk embeddings\n",
        "x_train0 = load(path_transformer_chunk_embeddings_train, allow_pickle = True)\n",
        "x_dev0 = load(path_transformer_chunk_embeddings_dev, allow_pickle= True)\n",
        "x_test0 = load(path_transformer_chunk_embeddings_test, allow_pickle= True)"
      ]
    },
    {
      "cell_type": "code",
      "execution_count": 6,
      "metadata": {
        "id": "-aVSH_kLQ3pM"
      },
      "outputs": [],
      "source": [
        "# loading the corresponding label for each case in dataset\n",
        "dev = dataset.loc[dataset['split'] == 'dev'] \n",
        "train = dataset.loc[dataset['split'] == 'train'] \n",
        "test = dataset.loc[dataset['split'] == 'test'] \n",
        "\n",
        "y_train0 = []\n",
        "for i in range(train.shape[0]):\n",
        "    y_train0.append(train.loc[i,'label'])  \n",
        "    \n",
        "y_dev0 = []\n",
        "for i in range(dev.shape[0]):\n",
        "    y_dev0.append(dev.loc[i+32305,'label'])\n",
        "\n",
        "y_test0 = []\n",
        "for i in range(test.shape[0]):\n",
        "    y_test0.append(test.loc[i+33299,'label'])"
      ]
    },
    {
      "cell_type": "code",
      "execution_count": 7,
      "metadata": {
        "colab": {
          "base_uri": "https://localhost:8080/"
        },
        "id": "PnMJO4OQcI5g",
        "outputId": "dd9001e5-ba26-406b-ae25-2317cdcfe3eb"
      },
      "outputs": [
        {
          "name": "stdout",
          "output_type": "stream",
          "text": [
            "Model: \"model\"\n",
            "_________________________________________________________________\n",
            " Layer (type)                Output Shape              Param #   \n",
            "=================================================================\n",
            " text (InputLayer)           [(None, None, 768)]       0         \n",
            "                                                                 \n",
            " masking (Masking)           (None, None, 768)         0         \n",
            "                                                                 \n",
            " bidirectional (Bidirectiona  (None, None, 200)        522000    \n",
            " l)                                                              \n",
            "                                                                 \n",
            " max_pooling1d (MaxPooling1D  (None, None, 200)        0         \n",
            " )                                                               \n",
            "                                                                 \n",
            " bidirectional_1 (Bidirectio  (None, None, 200)        181200    \n",
            " nal)                                                            \n",
            "                                                                 \n",
            " max_pooling1d_1 (MaxPooling  (None, None, 200)        0         \n",
            " 1D)                                                             \n",
            "                                                                 \n",
            " dropout (Dropout)           (None, None, 200)         0         \n",
            "                                                                 \n",
            " dense (Dense)               (None, None, 30)          6030      \n",
            "                                                                 \n",
            " dense_1 (Dense)             (None, None, 1)           31        \n",
            "                                                                 \n",
            "=================================================================\n",
            "Total params: 709,261\n",
            "Trainable params: 709,261\n",
            "Non-trainable params: 0\n",
            "_________________________________________________________________\n"
          ]
        }
      ],
      "source": [
        "from keras import layers\n",
        "from keras.models import Model\n",
        "\n",
        "# Input layer to convert into required tensor shape\n",
        "text_input = layers.Input(shape=(None,768,), dtype='float32', name='text')\n",
        "\n",
        "# Masking layer to mask the padded values\n",
        "l_mask = layers.Masking(mask_value=-99.)(text_input)\n",
        "\n",
        "# After masking we encode the vector using 2 bidirectional GRU's\n",
        "encoded_text1 = layers.Bidirectional(layers.GRU(100,return_sequences=True))(l_mask)\n",
        "\n",
        "# Add an average pooling layer\n",
        "encoded_text2 = layers.MaxPooling1D(pool_size=2)(encoded_text1)\n",
        "\n",
        "encoded_text3 = layers.Bidirectional(layers.GRU(100,return_sequences=True))(encoded_text2)\n",
        "\n",
        "# Add an average pooling layer\n",
        "encoded_text4 = layers.MaxPooling1D(pool_size=2)(encoded_text3)\n",
        "\n",
        "# Add a dropout layer after encoding\n",
        "dropout_layer = layers.Dropout(0.2)(encoded_text4)\n",
        "\n",
        "# Add a dense layer after encoding\n",
        "out_dense = layers.Dense(30, activation='relu')(dropout_layer)\n",
        "\n",
        "# And we add a sigmoid classifier on top\n",
        "out = layers.Dense(1, activation='sigmoid')(out_dense)\n",
        "\n",
        "# At model instantiation, we specify the input and the output:\n",
        "model = Model(text_input, out)\n",
        "model.compile(optimizer='Adam', loss='binary_crossentropy', metrics=['acc'])\n",
        "model.summary()\n"
      ]
    },
    {
      "cell_type": "code",
      "execution_count": 8,
      "metadata": {
        "colab": {
          "base_uri": "https://localhost:8080/"
        },
        "id": "Cj8AvoR0nWuX",
        "outputId": "fe6fdce2-9b27-438c-efd8-36682fae9008"
      },
      "outputs": [
        {
          "name": "stdout",
          "output_type": "stream",
          "text": [
            "text\n",
            "[(None, None, 768)]\n",
            "[(None, None, 768)]\n",
            "\n",
            "masking\n",
            "(None, None, 768)\n",
            "(None, None, 768)\n",
            "\n",
            "bidirectional\n",
            "(None, None, 768)\n",
            "(None, None, 200)\n",
            "\n",
            "max_pooling1d\n",
            "(None, None, 200)\n",
            "(None, None, 200)\n",
            "\n",
            "bidirectional_1\n",
            "(None, None, 200)\n",
            "(None, None, 200)\n",
            "\n",
            "max_pooling1d_1\n",
            "(None, None, 200)\n",
            "(None, None, 200)\n",
            "\n",
            "dropout\n",
            "(None, None, 200)\n",
            "(None, None, 200)\n",
            "\n",
            "dense\n",
            "(None, None, 200)\n",
            "(None, None, 30)\n",
            "\n",
            "dense_1\n",
            "(None, None, 30)\n",
            "(None, None, 1)\n",
            "\n"
          ]
        }
      ],
      "source": [
        "for layer in model.layers:\n",
        "    print(layer.name)\n",
        "    print(layer.input_shape)\n",
        "    print(layer.output_shape)\n",
        "    print()"
      ]
    },
    {
      "cell_type": "code",
      "execution_count": 9,
      "metadata": {
        "id": "YgVbg80acVar"
      },
      "outputs": [],
      "source": [
        "num_sequences = len(x_train0)\n",
        "batch_size = 32 \n",
        "batches_per_epoch =  int(num_sequences/batch_size)\n",
        "num_features= 768\n",
        "def train_generator(): # function to generate batches of corresponding batch size\n",
        "    x_list= x_train0\n",
        "    y_list =  y_train0\n",
        "    # Generate batches\n",
        "    while True:\n",
        "        for b in range(batches_per_epoch):\n",
        "            longest_index = (b + 1) * batch_size - 1\n",
        "            timesteps = len(max(x_train0[:(b + 1) * batch_size][-batch_size:], key=len))\n",
        "            x_train = np.full((batch_size, timesteps, num_features), -99.)\n",
        "            y_train = np.zeros((batch_size,  1))\n",
        "            # padding the vectors with respect to the maximum sequence of each batch and not the whole training data\n",
        "            for i in range(batch_size):\n",
        "                li = b * batch_size + i\n",
        "                x_train[i, 0:len(x_list[li]), :] = x_list[li]\n",
        "                y_train[i] = y_list[li]\n",
        "            yield x_train, y_train"
      ]
    },
    {
      "cell_type": "code",
      "execution_count": 10,
      "metadata": {
        "id": "vnGZeO1ieiAQ"
      },
      "outputs": [],
      "source": [
        "num_sequences_val = len(x_dev0)\n",
        "batch_size_val = 32\n",
        "batches_per_epoch_val = int(num_sequences_val/batch_size_val)\n",
        "num_features= 768\n",
        "def val_generator():# Similar function to generate validation batches\n",
        "    x_list= x_dev0\n",
        "    y_list =  y_dev0\n",
        "    # Generate batches\n",
        "    while True:\n",
        "        for b in range(batches_per_epoch_val):\n",
        "            longest_index = (b + 1) * batch_size_val - 1\n",
        "            timesteps = len(max(x_dev0[:(b + 1) * batch_size_val][-batch_size_val:], key=len))\n",
        "            x_train = np.full((batch_size_val, timesteps, num_features), 0)\n",
        "            y_train = np.zeros((batch_size_val,  1))\n",
        "            # padding the vectors with respect to the maximum sequence of each batch and not the whole validation data\n",
        "            for i in range(batch_size_val):\n",
        "                li = b * batch_size_val + i\n",
        "                x_train[i, 0:len(x_list[li]), :] = x_list[li]\n",
        "                y_train[i] = y_list[li]\n",
        "            yield x_train, y_train"
      ]
    },
    {
      "cell_type": "code",
      "execution_count": 11,
      "metadata": {
        "colab": {
          "base_uri": "https://localhost:8080/"
        },
        "id": "MYZ7yr9mlYk_",
        "outputId": "a0ce3497-03ab-4ab7-c916-a641b7b0ed3e"
      },
      "outputs": [
        {
          "name": "stdout",
          "output_type": "stream",
          "text": [
            "Epoch 1/20\n",
            "1009/1009 [==============================] - 217s 173ms/step - loss: 0.4560 - acc: 0.7839 - val_loss: 0.5701 - val_acc: 0.7196 - lr: 0.0010\n",
            "Epoch 2/20\n",
            "1009/1009 [==============================] - 176s 174ms/step - loss: 0.4333 - acc: 0.7950 - val_loss: 0.5607 - val_acc: 0.7355 - lr: 0.0010\n",
            "Epoch 3/20\n",
            "1009/1009 [==============================] - 170s 169ms/step - loss: 0.4222 - acc: 0.8013 - val_loss: 0.5753 - val_acc: 0.7328 - lr: 0.0010\n",
            "Epoch 4/20\n",
            "1009/1009 [==============================] - ETA: 0s - loss: 0.4117 - acc: 0.8075\n",
            "Epoch 4: ReduceLROnPlateau reducing learning rate to 0.0009500000451225787.\n",
            "1009/1009 [==============================] - 102s 101ms/step - loss: 0.4117 - acc: 0.8075 - val_loss: 0.5967 - val_acc: 0.6818 - lr: 0.0010\n",
            "Epoch 5/20\n",
            "1009/1009 [==============================] - 70s 69ms/step - loss: 0.3999 - acc: 0.8133 - val_loss: 0.6132 - val_acc: 0.6578 - lr: 9.5000e-04\n",
            "Epoch 6/20\n",
            "1009/1009 [==============================] - ETA: 0s - loss: 0.3850 - acc: 0.8212\n",
            "Epoch 6: ReduceLROnPlateau reducing learning rate to 0.0009025000152178108.\n",
            "1009/1009 [==============================] - 76s 75ms/step - loss: 0.3850 - acc: 0.8212 - val_loss: 0.8170 - val_acc: 0.5486 - lr: 9.5000e-04\n",
            "Epoch 7/20\n",
            "1009/1009 [==============================] - 76s 75ms/step - loss: 0.3688 - acc: 0.8292 - val_loss: 0.6589 - val_acc: 0.6050 - lr: 9.0250e-04\n",
            "Epoch 8/20\n",
            "1009/1009 [==============================] - ETA: 0s - loss: 0.3484 - acc: 0.8415\n",
            "Epoch 8: ReduceLROnPlateau reducing learning rate to 0.0008573750033974647.\n",
            "1009/1009 [==============================] - 71s 70ms/step - loss: 0.3484 - acc: 0.8415 - val_loss: 0.7647 - val_acc: 0.5299 - lr: 9.0250e-04\n",
            "Epoch 9/20\n",
            "1009/1009 [==============================] - 77s 76ms/step - loss: 0.3287 - acc: 0.8523 - val_loss: 0.9301 - val_acc: 0.5213 - lr: 8.5737e-04\n",
            "Epoch 10/20\n",
            "1009/1009 [==============================] - ETA: 0s - loss: 0.3094 - acc: 0.8636\n",
            "Epoch 10: ReduceLROnPlateau reducing learning rate to 0.0008145062311086804.\n",
            "1009/1009 [==============================] - 85s 84ms/step - loss: 0.3094 - acc: 0.8636 - val_loss: 1.3117 - val_acc: 0.5035 - lr: 8.5737e-04\n",
            "Epoch 11/20\n",
            "1009/1009 [==============================] - 75s 74ms/step - loss: 0.2844 - acc: 0.8764 - val_loss: 1.3971 - val_acc: 0.5039 - lr: 8.1451e-04\n",
            "Epoch 12/20\n",
            "1009/1009 [==============================] - ETA: 0s - loss: 0.2667 - acc: 0.8858\n",
            "Epoch 12: ReduceLROnPlateau reducing learning rate to 0.0007737808919046074.\n",
            "1009/1009 [==============================] - 67s 66ms/step - loss: 0.2667 - acc: 0.8858 - val_loss: 1.1636 - val_acc: 0.5064 - lr: 8.1451e-04\n",
            "Epoch 13/20\n",
            "1009/1009 [==============================] - 64s 64ms/step - loss: 0.2468 - acc: 0.8969 - val_loss: 1.2286 - val_acc: 0.5146 - lr: 7.7378e-04\n",
            "Epoch 14/20\n",
            "1009/1009 [==============================] - ETA: 0s - loss: 0.2294 - acc: 0.9042\n",
            "Epoch 14: ReduceLROnPlateau reducing learning rate to 0.000735091819660738.\n",
            "1009/1009 [==============================] - 69s 69ms/step - loss: 0.2294 - acc: 0.9042 - val_loss: 1.3308 - val_acc: 0.5126 - lr: 7.7378e-04\n",
            "Epoch 15/20\n",
            "1009/1009 [==============================] - 72s 71ms/step - loss: 0.2097 - acc: 0.9129 - val_loss: 1.9263 - val_acc: 0.5042 - lr: 7.3509e-04\n",
            "Epoch 16/20\n",
            "1009/1009 [==============================] - ETA: 0s - loss: 0.1877 - acc: 0.9232\n",
            "Epoch 16: ReduceLROnPlateau reducing learning rate to 0.0006983372120885178.\n",
            "1009/1009 [==============================] - 74s 74ms/step - loss: 0.1877 - acc: 0.9232 - val_loss: 2.4586 - val_acc: 0.5007 - lr: 7.3509e-04\n",
            "Epoch 17/20\n",
            "1009/1009 [==============================] - 79s 78ms/step - loss: 0.1782 - acc: 0.9263 - val_loss: 3.4139 - val_acc: 0.5181 - lr: 6.9834e-04\n",
            "Epoch 18/20\n",
            "1009/1009 [==============================] - ETA: 0s - loss: 0.1671 - acc: 0.9310\n",
            "Epoch 18: ReduceLROnPlateau reducing learning rate to 0.0006634203542489559.\n",
            "1009/1009 [==============================] - 73s 73ms/step - loss: 0.1671 - acc: 0.9310 - val_loss: 3.1981 - val_acc: 0.5153 - lr: 6.9834e-04\n",
            "Epoch 19/20\n",
            "1009/1009 [==============================] - 74s 74ms/step - loss: 0.1582 - acc: 0.9350 - val_loss: 3.4182 - val_acc: 0.5155 - lr: 6.6342e-04\n",
            "Epoch 20/20\n",
            "1009/1009 [==============================] - ETA: 0s - loss: 0.1488 - acc: 0.9388\n",
            "Epoch 20: ReduceLROnPlateau reducing learning rate to 0.0006302493420662358.\n",
            "1009/1009 [==============================] - 74s 74ms/step - loss: 0.1488 - acc: 0.9388 - val_loss: 2.6114 - val_acc: 0.5829 - lr: 6.6342e-04\n"
          ]
        }
      ],
      "source": [
        "# Setting the callback and training the model\n",
        "call_reduce = ReduceLROnPlateau(monitor='val_acc', factor=0.95, patience=2, verbose=2,mode='auto', min_delta=0.01, cooldown=0, min_lr=0)\n",
        "\n",
        "history= model.fit(train_generator(), steps_per_epoch=batches_per_epoch, epochs=20,validation_data=val_generator(), validation_steps=batches_per_epoch_val, callbacks =[call_reduce] )"
      ]
    },
    {
      "cell_type": "code",
      "execution_count": 12,
      "metadata": {},
      "outputs": [
        {
          "data": {
            "image/png": "[encoded data removed]",
            "text/plain": [
              "<Figure size 640x480 with 1 Axes>"
            ]
          },
          "metadata": {},
          "output_type": "display_data"
        },
        {
          "data": {
            "image/png": "[encoded data removed]",
            "text/plain": [
              "<Figure size 640x480 with 1 Axes>"
            ]
          },
          "metadata": {},
          "output_type": "display_data"
        }
      ],
      "source": [
        "# Plot the training and validation accuracy and loss at each epoch\n",
        "import matplotlib.pyplot as plt\n",
        "acc = history.history['acc']\n",
        "val_acc = history.history['val_acc']\n",
        "loss = history.history['loss']\n",
        "val_loss = history.history['val_loss']\n",
        "epochs = range(1, len(acc) + 1)\n",
        "plt.plot(epochs, acc, 'b-', label='Training acc')\n",
        "plt.plot(epochs, val_acc, 'r', label='Validation acc')\n",
        "plt.xlabel('Epochs')\n",
        "plt.ylabel('Accuracy')\n",
        "plt.title('Training and validation accuracy')\n",
        "plt.legend()\n",
        "plt.figure()\n",
        "\n",
        "\n",
        "plt.plot(epochs, loss, 'b-', label='Training loss')\n",
        "plt.plot(epochs, val_loss, 'r', label='Validation loss')\n",
        "plt.xlabel('Epochs')\n",
        "plt.ylabel('Loss')\n",
        "plt.title('Training and validation loss')\n",
        "plt.legend()\n",
        "plt.show()"
      ]
    },
    {
      "cell_type": "code",
      "execution_count": 13,
      "metadata": {
        "id": "YM_52sqVwZS1"
      },
      "outputs": [],
      "source": [
        "# Extract training history\n",
        "train_loss = history.history['loss']\n",
        "train_acc = history.history['acc']\n",
        "\n",
        "# Extract validation history\n",
        "val_loss = history.history['val_loss']\n",
        "val_acc = history.history['val_acc']"
      ]
    },
    {
      "cell_type": "code",
      "execution_count": 14,
      "metadata": {
        "colab": {
          "base_uri": "https://localhost:8080/",
          "height": 447
        },
        "id": "QrmAmZiGw7kK",
        "outputId": "b9daa85f-073f-45e5-9e12-b6d7fe827bfe"
      },
      "outputs": [
        {
          "data": {
            "text/plain": [
              "[<matplotlib.lines.Line2D at 0x237d67e7cd0>]"
            ]
          },
          "execution_count": 14,
          "metadata": {},
          "output_type": "execute_result"
        },
        {
          "data": {
            "image/png": "[encoded data removed]",
            "text/plain": [
              "<Figure size 640x480 with 1 Axes>"
            ]
          },
          "metadata": {},
          "output_type": "display_data"
        }
      ],
      "source": [
        "import matplotlib.pyplot as plt\n",
        "\n",
        "# plt.plot(train_loss)\n",
        "plt.plot(train_acc)"
      ]
    },
    {
      "cell_type": "code",
      "execution_count": 15,
      "metadata": {
        "id": "Y3ET-FUAx8Su"
      },
      "outputs": [],
      "source": [
        "num_sequences_test = len(x_test0)\n",
        "batch_size_test = 32\n",
        "batches_per_epoch_test = int(num_sequences_test/batch_size_test) + 1\n",
        "num_features= 768\n",
        "\n",
        "def test_generator(): # function to generate batches of corresponding batch size\n",
        "    x_list= x_test0\n",
        "    y_list =  y_test0\n",
        "    # Generate batches\n",
        "    while True:\n",
        "        for b in range(batches_per_epoch_test):\n",
        "            if(b == batches_per_epoch_test-1): # An extra if else statement just to manage the last batch as it's size might not be equal to batch size \n",
        "              longest_index = num_sequences_test - 1\n",
        "\n",
        "              timesteps = len(max(x_test0[:longest_index + 1][-batch_size_test:], key=len))\n",
        "              x_train = np.full((longest_index - b*batch_size_test, timesteps, num_features), -99.)\n",
        "              y_train = np.zeros((longest_index - b*batch_size_test,  1))\n",
        "              for i in range(longest_index - b*batch_size_test):\n",
        "                  li = b * batch_size_test + i\n",
        "                  x_train[i, 0:len(x_list[li]), :] = x_list[li]\n",
        "                  y_train[i] = y_list[li]\n",
        "            else:\n",
        "                longest_index = (b + 1) * batch_size_test - 1\n",
        "                timesteps = len(max(x_test0[:(b + 1) * batch_size_test][-batch_size_test:], key=len))\n",
        "                x_train = np.full((batch_size_test, timesteps, num_features), -99.)\n",
        "                y_train = np.zeros((batch_size_test,  1))\n",
        "                # padding the vectors with respect to the maximum sequence of each batch and not the whole test data\n",
        "                for i in range(batch_size_test):\n",
        "                    li = b * batch_size_test + i\n",
        "                    x_train[i, 0:len(x_list[li]), :] = x_list[li]\n",
        "                    y_train[i] = y_list[li]\n",
        "            yield x_train, y_train"
      ]
    },
    {
      "cell_type": "code",
      "execution_count": 16,
      "metadata": {
        "colab": {
          "base_uri": "https://localhost:8080/"
        },
        "id": "i-HzpAFHdD-t",
        "outputId": "7a0c1aa3-2cdd-4e56-ef23-f63998f8ec06"
      },
      "outputs": [
        {
          "name": "stderr",
          "output_type": "stream",
          "text": [
            "C:\\Users\\Rahul Varma\\AppData\\Local\\Temp\\ipykernel_1088\\4112675470.py:2: UserWarning: `Model.evaluate_generator` is deprecated and will be removed in a future version. Please use `Model.evaluate`, which supports generators.\n",
            "  test_loss, test_acc=  model.evaluate_generator(test_generator(), steps= batches_per_epoch_test)\n"
          ]
        },
        {
          "name": "stdout",
          "output_type": "stream",
          "text": [
            "Test Loss: 1.1589056253433228\n",
            "Test Accuracy: 0.7316401600837708\n"
          ]
        }
      ],
      "source": [
        "# evaluating on the test data\n",
        "test_loss, test_acc=  model.evaluate_generator(test_generator(), steps= batches_per_epoch_test)\n",
        "print('Test Loss:', test_loss)\n",
        "print('Test Accuracy:', test_acc)\n"
      ]
    },
    {
      "cell_type": "code",
      "execution_count": 17,
      "metadata": {
        "id": "4bko5x4jKnpl"
      },
      "outputs": [],
      "source": [
        "# defining a function which calculates various metrics such as micro and macro precision, accuracy and f1\n",
        "def metrics_calculator(preds, test_labels):\n",
        "    cm = confusion_matrix(test_labels, preds)\n",
        "    TP = []\n",
        "    FP = []\n",
        "    FN = []\n",
        "    for i in range(0,2):\n",
        "        summ = 0\n",
        "        for j in range(0,2):\n",
        "            if(i!=j):\n",
        "                summ=summ+cm[i][j]\n",
        "\n",
        "        FN.append(summ)\n",
        "    for i in range(0,2):\n",
        "        summ = 0\n",
        "        for j in range(0,2):\n",
        "            if(i!=j):\n",
        "                summ=summ+cm[j][i]\n",
        "\n",
        "        FP.append(summ)\n",
        "    for i in range(0,2):\n",
        "        TP.append(cm[i][i])\n",
        "    precision = []\n",
        "    recall = []\n",
        "    for i in range(0,2):\n",
        "        precision.append(TP[i]/(TP[i] + FP[i]))\n",
        "        recall.append(TP[i]/(TP[i] + FN[i]))\n",
        "\n",
        "    macro_precision = sum(precision)/2\n",
        "    macro_recall = sum(recall)/2\n",
        "    micro_precision = sum(TP)/(sum(TP) + sum(FP))\n",
        "    micro_recall = sum(TP)/(sum(TP) + sum(FN))\n",
        "    micro_f1 = (2*micro_precision*micro_recall)/(micro_precision + micro_recall)\n",
        "    macro_f1 = (2*macro_precision*macro_recall)/(macro_precision + macro_recall)\n",
        "    print(\"macro_precision, macro_recall, macro_f1, micro_precision, micro_recall, micro_f1\")\n",
        "    return macro_precision, macro_recall, macro_f1, micro_precision, micro_recall, micro_f1"
      ]
    },
    {
      "cell_type": "code",
      "execution_count": 18,
      "metadata": {
        "colab": {
          "base_uri": "https://localhost:8080/"
        },
        "id": "b49_aClD2TFO",
        "outputId": "086b6ef1-0384-48d5-e8ff-e4ada13218ce"
      },
      "outputs": [
        {
          "name": "stderr",
          "output_type": "stream",
          "text": [
            "C:\\Users\\Rahul Varma\\AppData\\Local\\Temp\\ipykernel_1088\\1136303387.py:1: UserWarning: `Model.predict_generator` is deprecated and will be removed in a future version. Please use `Model.predict`, which supports generators.\n",
            "  preds = model.predict_generator(test_generator(), steps=batches_per_epoch_test)\n"
          ]
        },
        {
          "name": "stdout",
          "output_type": "stream",
          "text": [
            "macro_precision, macro_recall, macro_f1, micro_precision, micro_recall, micro_f1\n",
            "(0.7258905549657167, 0.7255162691126176, 0.7257033637791281, 0.7255936675461742, 0.7255936675461742, 0.7255936675461743)\n"
          ]
        }
      ],
      "source": [
        "preds = model.predict_generator(test_generator(), steps=batches_per_epoch_test)\n",
        "y_pred = (preds > 0.5).numpy()\n",
        "for i in range(y_pred.shape[0]):\n",
        "    count_zeros = np.sum(y_pred[i] == 0)\n",
        "    count_ones = np.sum(y_pred[i] == 1)\n",
        "    if count_zeros > count_ones:\n",
        "        y_pred[i] = 0\n",
        "    else:\n",
        "        y_pred[i] = 1\n",
        "\n",
        "# Calculating all metrics on test data predicted label\n",
        "print(metrics_calculator(tuple(y_pred), y_test0[:-1]))"
      ]
    },
    {
      "cell_type": "code",
      "execution_count": 19,
      "metadata": {
        "colab": {
          "base_uri": "https://localhost:8080/"
        },
        "id": "MLGnNSmqLahb",
        "outputId": "bc8fbdc4-9359-4403-e988-c81c19040218"
      },
      "outputs": [
        {
          "name": "stderr",
          "output_type": "stream",
          "text": [
            "C:\\Users\\Rahul Varma\\AppData\\Local\\Temp\\ipykernel_1088\\415520231.py:2: UserWarning: `Model.predict_generator` is deprecated and will be removed in a future version. Please use `Model.predict`, which supports generators.\n",
            "  preds = model.predict_generator(val_generator(), steps= batches_per_epoch_val)\n"
          ]
        },
        {
          "name": "stdout",
          "output_type": "stream",
          "text": [
            "macro_precision, macro_recall, macro_f1, micro_precision, micro_recall, micro_f1\n",
            "(0.6715307158191633, 0.5776209677419355, 0.621045829813233, 0.5776209677419355, 0.5776209677419355, 0.5776209677419355)\n"
          ]
        }
      ],
      "source": [
        "# getting the predicted labels on the dev data\n",
        "preds = model.predict_generator(val_generator(), steps= batches_per_epoch_val)\n",
        "y_pred_dev = (preds > 0.5).numpy()\n",
        "for i in range(y_pred_dev.shape[0]):\n",
        "    count_zeros = np.sum(y_pred_dev[i] == 0)\n",
        "    count_ones = np.sum(y_pred_dev[i] == 1)\n",
        "    if count_zeros > count_ones:\n",
        "        y_pred_dev[i] = 0\n",
        "    else:\n",
        "        y_pred_dev[i] = 1\n",
        "\n",
        "# Calculating all metrics on dev data predicted label\n",
        "print(metrics_calculator(tuple(y_pred_dev), y_dev0[:-2]))"
      ]
    },
    {
      "cell_type": "code",
      "execution_count": 20,
      "metadata": {
        "id": "ITN1ODSfa61U"
      },
      "outputs": [],
      "source": [
        "# saving the trained model\n",
        "model.save('BIGRU_XLNet.h5')  # creates a HDF5 file 'BIGRU_XLNet.h5'"
      ]
    },
    {
      "cell_type": "code",
      "execution_count": 21,
      "metadata": {
        "id": "NN5eSAN7R7As"
      },
      "outputs": [],
      "source": [
        "# loading the model\n",
        "# model = load_model('BIGRU_XLNet.h5')"
      ]
    }
  ],
  "metadata": {
    "accelerator": "TPU",
    "colab": {
      "provenance": []
    },
    "gpuClass": "standard",
    "kernelspec": {
      "display_name": "Python 3",
      "language": "python",
      "name": "python3"
    },
    "language_info": {
      "codemirror_mode": {
        "name": "ipython",
        "version": 3
      },
      "file_extension": ".py",
      "mimetype": "text/x-python",
      "name": "python",
      "nbconvert_exporter": "python",
      "pygments_lexer": "ipython3",
      "version": "3.10.7"
    }
  },
  "nbformat": 4,
  "nbformat_minor": 0
}
